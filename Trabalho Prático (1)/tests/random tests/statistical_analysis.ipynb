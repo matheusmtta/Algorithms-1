{
 "cells": [
  {
   "cell_type": "code",
   "execution_count": 26,
   "metadata": {},
   "outputs": [],
   "source": [
    "import pandas as pd\n",
    "import numpy as np\n",
    "import matplotlib.pyplot as plt\n",
    "import glob"
   ]
  },
  {
   "cell_type": "code",
   "execution_count": 105,
   "metadata": {},
   "outputs": [],
   "source": [
    "all_files = glob.glob(\"*.csv\")\n",
    "\n",
    "li = []\n",
    "\n",
    "for filename in all_files:\n",
    "    curr = []\n",
    "    df = pd.read_csv(filename, index_col=None, header=0)\n",
    "    curr.append(df)\n",
    "    li.append(curr)\n",
    "    \n",
    "n1 = li[0][0].iloc[:, 0].values\n",
    "m1 = li[0][0].iloc[:, 1].values\n",
    "\n",
    "stdev = np.zeros((10, 20))\n",
    "\n",
    "avg = np.zeros(20)\n",
    "standart_deviation = np.zeros(20)\n",
    "\n",
    "i = 0\n",
    "\n",
    "for line in li:\n",
    "    for column in line:\n",
    "        avg += column.iloc[:, 1].values\n",
    "        for j in range(20):\n",
    "            stdev[i][j] = column.iloc[:, 1].values[j]\n",
    "    i+=1\n",
    "        \n",
    "for i in range(20):\n",
    "    standart_deviation[i] = np.std(stdev[:,i])\n",
    "    \n",
    "avg = np.around(avg, decimals = 3)\n",
    "avg = np.around(standart_deviation, decimals = 3)\n",
    "    \n",
    "np.savetxt('standart_deviation.csv', standart_deviation, delimiter = ',')\n",
    "np.savetxt('avg.csv', avg, delimiter = ',')"
   ]
  },
  {
   "cell_type": "code",
   "execution_count": null,
   "metadata": {},
   "outputs": [],
   "source": []
  }
 ],
 "metadata": {
  "kernelspec": {
   "display_name": "Python 3",
   "language": "python",
   "name": "python3"
  },
  "language_info": {
   "codemirror_mode": {
    "name": "ipython",
    "version": 3
   },
   "file_extension": ".py",
   "mimetype": "text/x-python",
   "name": "python",
   "nbconvert_exporter": "python",
   "pygments_lexer": "ipython3",
   "version": "3.8.2"
  }
 },
 "nbformat": 4,
 "nbformat_minor": 4
}
